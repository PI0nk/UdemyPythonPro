{
 "cells": [
  {
   "cell_type": "code",
   "execution_count": 52,
   "metadata": {},
   "outputs": [],
   "source": [
    "import math\n",
    "import time\n",
    "from concurrent.futures import ThreadPoolExecutor"
   ]
  },
  {
   "cell_type": "markdown",
   "metadata": {},
   "source": [
    "# Futures"
   ]
  },
  {
   "cell_type": "code",
   "execution_count": 53,
   "metadata": {},
   "outputs": [],
   "source": [
    "numbers = [\n",
    "    18014398777917439,\n",
    "    18014398777917439,\n",
    "    18014398777917439,\n",
    "    18014398777917439,\n",
    "    18014398777917439,\n",
    "    18014398777917439,\n",
    "    18014398777917439,\n",
    "    18014398777917439,\n",
    "    18014398777917439,\n",
    "    18014398777917439,\n",
    "    18014398777917439,\n",
    "    18014398777917439,\n",
    "]"
   ]
  },
  {
   "cell_type": "code",
   "execution_count": 54,
   "metadata": {},
   "outputs": [],
   "source": [
    "def is_prime(n):\n",
    "    if n < 2:\n",
    "        return False\n",
    "\n",
    "    if n in {2, 3, 5, 7}:\n",
    "        return True\n",
    "\n",
    "    if n % 2 == 0 or n % 3 == 0 or n % 5 == 0 or n % 7 == 0:\n",
    "        return False\n",
    "\n",
    "    upper_limit = int(math.sqrt(n)) + 1\n",
    "\n",
    "    return all(n % i != 0 for i in range(11, upper_limit, 2))"
   ]
  },
  {
   "cell_type": "code",
   "execution_count": 55,
   "metadata": {},
   "outputs": [
    {
     "name": "stdout",
     "output_type": "stream",
     "text": [
      "10657331232548839 is prime: True\n",
      "10963707205259 is prime: True\n",
      "15285151248481 is prime: True\n",
      "1111111111111111111 is prime: True\n",
      "70368760954879 is prime: True\n",
      "18014398777917439 is prime: True\n",
      "time: 36224.4556 ms\n"
     ]
    }
   ],
   "source": [
    "start = time.perf_counter_ns()\n",
    "\n",
    "\n",
    "with ThreadPoolExecutor(max_workers=10) as ex:\n",
    "    for number, prime in zip(numbers, ex.map(is_prime, numbers)):\n",
    "        print(f\"{number} is prime: {prime}\")\n",
    "\n",
    "\n",
    "end = time.perf_counter_ns()\n",
    "\n",
    "print(f\"time: {(end - start) / 1000000.0} ms\")"
   ]
  }
 ],
 "metadata": {
  "interpreter": {
   "hash": "4eab73af86a999baa7bf0153340022c78a9cea3be6d1f049b3c9a17993d56d0b"
  },
  "kernelspec": {
   "display_name": "Python 3.8.10 64-bit ('tensorflow': conda)",
   "name": "python3"
  },
  "language_info": {
   "codemirror_mode": {
    "name": "ipython",
    "version": 3
   },
   "file_extension": ".py",
   "mimetype": "text/x-python",
   "name": "python",
   "nbconvert_exporter": "python",
   "pygments_lexer": "ipython3",
   "version": "3.8.10"
  },
  "orig_nbformat": 4
 },
 "nbformat": 4,
 "nbformat_minor": 2
}