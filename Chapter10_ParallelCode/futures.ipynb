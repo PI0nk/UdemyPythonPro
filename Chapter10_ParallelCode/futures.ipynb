{
 "cells": [
  {
   "cell_type": "code",
   "execution_count": 52,
   "source": [
    "import math\n",
    "import time\n",
    "from concurrent.futures import ThreadPoolExecutor"
   ],
   "outputs": [],
   "metadata": {}
  },
  {
   "cell_type": "markdown",
   "source": [
    "# Futures"
   ],
   "metadata": {}
  },
  {
   "cell_type": "code",
   "execution_count": 53,
   "source": [
    "numbers = [\n",
    "    18014398777917439,\n",
    "    18014398777917439,\n",
    "    18014398777917439,\n",
    "    18014398777917439,\n",
    "    18014398777917439,\n",
    "    18014398777917439,\n",
    "    18014398777917439,\n",
    "    18014398777917439,\n",
    "    18014398777917439,\n",
    "    18014398777917439,\n",
    "    18014398777917439,\n",
    "    18014398777917439,\n",
    "]"
   ],
   "outputs": [],
   "metadata": {}
  },
  {
   "cell_type": "code",
   "execution_count": 54,
   "source": [
    "def is_prime(n):\n",
    "    if n < 2:\n",
    "        return False\n",
    "\n",
    "    if n in (2, 3, 5, 7):\n",
    "        return True\n",
    "\n",
    "    if n % 2 == 0 or n % 3 == 0 or n % 5 == 0 or n % 7 == 0:\n",
    "        return False\n",
    "\n",
    "    upper_limit = int(math.sqrt(n)) + 1\n",
    "\n",
    "    for i in range(11, upper_limit, 2):\n",
    "        if n % i == 0:\n",
    "            return False\n",
    "\n",
    "    return True"
   ],
   "outputs": [],
   "metadata": {}
  },
  {
   "cell_type": "code",
   "execution_count": 55,
   "source": [
    "start = time.perf_counter_ns()\n",
    "\n",
    "\n",
    "with ThreadPoolExecutor(max_workers=10) as ex:\n",
    "    for number, prime in zip(numbers, ex.map(is_prime, numbers)):\n",
    "        print(f\"{number} is prime: {prime}\")\n",
    "\n",
    "\n",
    "end = time.perf_counter_ns()\n",
    "\n",
    "print(f\"time: {(end - start) / 1000000.0} ms\")"
   ],
   "outputs": [
    {
     "output_type": "stream",
     "name": "stdout",
     "text": [
      "10657331232548839 is prime: True\n",
      "10963707205259 is prime: True\n",
      "15285151248481 is prime: True\n",
      "1111111111111111111 is prime: True\n",
      "70368760954879 is prime: True\n",
      "18014398777917439 is prime: True\n",
      "time: 36224.4556 ms\n"
     ]
    }
   ],
   "metadata": {}
  }
 ],
 "metadata": {
  "orig_nbformat": 4,
  "language_info": {
   "name": "python",
   "version": "3.8.10",
   "mimetype": "text/x-python",
   "codemirror_mode": {
    "name": "ipython",
    "version": 3
   },
   "pygments_lexer": "ipython3",
   "nbconvert_exporter": "python",
   "file_extension": ".py"
  },
  "kernelspec": {
   "name": "python3",
   "display_name": "Python 3.8.10 64-bit ('tensorflow': conda)"
  },
  "interpreter": {
   "hash": "4eab73af86a999baa7bf0153340022c78a9cea3be6d1f049b3c9a17993d56d0b"
  }
 },
 "nbformat": 4,
 "nbformat_minor": 2
}