{
 "cells": [
  {
   "cell_type": "code",
   "execution_count": 1,
   "metadata": {},
   "outputs": [],
   "source": [
    "import math\n",
    "import time\n",
    "from threading import Thread"
   ]
  },
  {
   "cell_type": "markdown",
   "metadata": {},
   "source": [
    "# GIL: Global Interpreter Lock"
   ]
  },
  {
   "cell_type": "code",
   "execution_count": 2,
   "metadata": {},
   "outputs": [],
   "source": [
    "numbers = [\n",
    "    1102023313711321,\n",
    "    2102023313556361,\n",
    "    2133132415198713,\n",
    "    2456241020233131,\n",
    "    2102124102331313,\n",
    "    2102023151513137,\n",
    "    2102023313112511,\n",
    "]"
   ]
  },
  {
   "cell_type": "code",
   "execution_count": 3,
   "metadata": {},
   "outputs": [],
   "source": [
    "def is_prime(n):\n",
    "    if n < 2:\n",
    "        return False\n",
    "\n",
    "    if n in {2, 3, 5, 7}:\n",
    "        return True\n",
    "\n",
    "    if n % 2 == 0 or n % 3 == 0 or n % 5 == 0 or n % 7 == 0:\n",
    "        return False\n",
    "\n",
    "    upper_limit = int(math.sqrt(n)) + 1\n",
    "\n",
    "    return all(n % i != 0 for i in range(11, upper_limit, 2))"
   ]
  },
  {
   "cell_type": "code",
   "execution_count": 4,
   "metadata": {},
   "outputs": [],
   "source": [
    "start = time.perf_counter_ns()\n",
    "\n",
    "\n",
    "for number in numbers:\n",
    "    is_prime(number)\n",
    "\n",
    "\n",
    "end = time.perf_counter_ns()\n",
    "\n",
    "print(f\"time: {(end - start) / 1000000.0} ms\")"
   ]
  },
  {
   "cell_type": "code",
   "execution_count": null,
   "metadata": {},
   "outputs": [],
   "source": [
    "threads = [Thread(target=is_prime, args=(number,)) for number in numbers]"
   ]
  },
  {
   "cell_type": "code",
   "execution_count": null,
   "metadata": {},
   "outputs": [
    {
     "name": "stdout",
     "output_type": "stream",
     "text": [
      "time: 957.6159 ms\n"
     ]
    }
   ],
   "source": [
    "start = time.perf_counter_ns()\n",
    "\n",
    "\n",
    "[t.start() for t in threads]\n",
    "\n",
    "[t.join() for t in threads]\n",
    "\n",
    "\n",
    "end = time.perf_counter_ns()\n",
    "\n",
    "print(f\"time: {(end - start) / 1000000.0} ms\")"
   ]
  }
 ],
 "metadata": {
  "interpreter": {
   "hash": "4eab73af86a999baa7bf0153340022c78a9cea3be6d1f049b3c9a17993d56d0b"
  },
  "kernelspec": {
   "display_name": "Python 3.8.10 64-bit ('tensorflow': conda)",
   "name": "python3"
  },
  "language_info": {
   "codemirror_mode": {
    "name": "ipython",
    "version": 3
   },
   "file_extension": ".py",
   "mimetype": "text/x-python",
   "name": "python",
   "nbconvert_exporter": "python",
   "pygments_lexer": "ipython3",
   "version": "3.8.10"
  },
  "orig_nbformat": 4
 },
 "nbformat": 4,
 "nbformat_minor": 2
}