{
 "cells": [
  {
   "cell_type": "code",
   "execution_count": 1,
   "source": [
    "import math\n",
    "import time\n",
    "from threading import Thread"
   ],
   "outputs": [],
   "metadata": {}
  },
  {
   "cell_type": "markdown",
   "source": [
    "# GIL: Global Interpreter Lock"
   ],
   "metadata": {}
  },
  {
   "cell_type": "code",
   "execution_count": 2,
   "source": [
    "numbers = [\n",
    "    1102023313711321,\n",
    "    2102023313556361,\n",
    "    2133132415198713,\n",
    "    2456241020233131,\n",
    "    2102124102331313,\n",
    "    2102023151513137,\n",
    "    2102023313112511,\n",
    "]"
   ],
   "outputs": [],
   "metadata": {}
  },
  {
   "cell_type": "code",
   "execution_count": 3,
   "source": [
    "def is_prime(n):\n",
    "    if n < 2:\n",
    "        return False\n",
    "\n",
    "    if n in (2, 3, 5, 7):\n",
    "        return True\n",
    "\n",
    "    if n % 2 == 0 or n % 3 == 0 or n % 5 == 0 or n % 7 == 0:\n",
    "        return False\n",
    "\n",
    "    upper_limit = int(math.sqrt(n)) + 1\n",
    "\n",
    "    for i in range(11, upper_limit, 2):\n",
    "        if n % i == 0:\n",
    "            return False\n",
    "\n",
    "    return True"
   ],
   "outputs": [],
   "metadata": {}
  },
  {
   "cell_type": "code",
   "execution_count": 4,
   "source": [
    "start = time.perf_counter_ns()\n",
    "\n",
    "\n",
    "for number in numbers:\n",
    "    is_prime(number)\n",
    "\n",
    "\n",
    "end = time.perf_counter_ns()\n",
    "\n",
    "print(f\"time: {(end - start) / 1000000.0} ms\")"
   ],
   "outputs": [],
   "metadata": {}
  },
  {
   "cell_type": "code",
   "execution_count": null,
   "source": [
    "threads = [Thread(target=is_prime, args=(number,)) for number in numbers]"
   ],
   "outputs": [],
   "metadata": {}
  },
  {
   "cell_type": "code",
   "execution_count": null,
   "source": [
    "start = time.perf_counter_ns()\n",
    "\n",
    "\n",
    "[t.start() for t in threads]\n",
    "\n",
    "[t.join() for t in threads]\n",
    "\n",
    "\n",
    "end = time.perf_counter_ns()\n",
    "\n",
    "print(f\"time: {(end - start) / 1000000.0} ms\")"
   ],
   "outputs": [
    {
     "output_type": "stream",
     "name": "stdout",
     "text": [
      "time: 957.6159 ms\n"
     ]
    }
   ],
   "metadata": {}
  }
 ],
 "metadata": {
  "orig_nbformat": 4,
  "language_info": {
   "name": "python",
   "version": "3.8.10",
   "mimetype": "text/x-python",
   "codemirror_mode": {
    "name": "ipython",
    "version": 3
   },
   "pygments_lexer": "ipython3",
   "nbconvert_exporter": "python",
   "file_extension": ".py"
  },
  "kernelspec": {
   "name": "python3",
   "display_name": "Python 3.8.10 64-bit ('tensorflow': conda)"
  },
  "interpreter": {
   "hash": "4eab73af86a999baa7bf0153340022c78a9cea3be6d1f049b3c9a17993d56d0b"
  }
 },
 "nbformat": 4,
 "nbformat_minor": 2
}