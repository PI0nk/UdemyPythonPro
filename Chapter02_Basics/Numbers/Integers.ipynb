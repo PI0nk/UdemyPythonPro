{
 "cells": [
  {
   "cell_type": "code",
   "execution_count": 1,
   "metadata": {},
   "outputs": [],
   "source": [
    "import math\n",
    "import sys\n"
   ]
  },
  {
   "cell_type": "markdown",
   "metadata": {},
   "source": [
    "# Integers\n"
   ]
  },
  {
   "cell_type": "markdown",
   "metadata": {},
   "source": [
    "C/C++/Java: int 32bit/4Byte\n",
    "\n",
    "Python: int object uses a variable number of bits\n"
   ]
  },
  {
   "cell_type": "code",
   "execution_count": 2,
   "metadata": {},
   "outputs": [
    {
     "name": "stdout",
     "output_type": "stream",
     "text": [
      "Integer size:  28\n"
     ]
    }
   ],
   "source": [
    "my_value = 42\n",
    "print(\"Integer size: \", sys.getsizeof(my_value))\n"
   ]
  },
  {
   "cell_type": "code",
   "execution_count": 3,
   "metadata": {},
   "outputs": [
    {
     "name": "stdout",
     "output_type": "stream",
     "text": [
      "Integer size:  28\n"
     ]
    }
   ],
   "source": [
    "my_value2 = 0\n",
    "print(\"Integer size: \", sys.getsizeof(my_value2))\n",
    "# NOTE: Since Python 3.10 here its also 28 Bytes\n"
   ]
  },
  {
   "cell_type": "code",
   "execution_count": 4,
   "metadata": {},
   "outputs": [
    {
     "name": "stdout",
     "output_type": "stream",
     "text": [
      "Integer size:  36\n"
     ]
    }
   ],
   "source": [
    "my_value3 = 2**64\n",
    "print(\"Integer size: \", sys.getsizeof(my_value3))\n"
   ]
  },
  {
   "cell_type": "markdown",
   "metadata": {},
   "source": [
    "## Arithmetic Opretions\n",
    "\n",
    "(int / int) => float\n"
   ]
  },
  {
   "cell_type": "code",
   "execution_count": 5,
   "metadata": {},
   "outputs": [
    {
     "name": "stdout",
     "output_type": "stream",
     "text": [
      "Result:  15  Type:  <class 'int'>\n",
      "Result:  5  Type:  <class 'int'>\n",
      "Result:  50  Type:  <class 'int'>\n",
      "Result:  2.0  Type:  <class 'float'>\n"
     ]
    }
   ],
   "source": [
    "result = 10 + 5\n",
    "print(\"Result: \", result, \" Type: \", type(result))\n",
    "\n",
    "result = 10 - 5\n",
    "print(\"Result: \", result, \" Type: \", type(result))\n",
    "\n",
    "result = 10 * 5\n",
    "print(\"Result: \", result, \" Type: \", type(result))\n",
    "\n",
    "result = 10 / 5\n",
    "print(\"Result: \", result, \" Type: \", type(result))\n"
   ]
  },
  {
   "cell_type": "code",
   "execution_count": 6,
   "metadata": {},
   "outputs": [
    {
     "name": "stdout",
     "output_type": "stream",
     "text": [
      "Result:  3  Type:  <class 'int'>\n"
     ]
    }
   ],
   "source": [
    "result = 10 // 3\n",
    "print(\"Result: \", result, \" Type: \", type(result))\n"
   ]
  },
  {
   "cell_type": "markdown",
   "metadata": {},
   "source": [
    "## Float -> Int\n"
   ]
  },
  {
   "cell_type": "code",
   "execution_count": 7,
   "metadata": {},
   "outputs": [
    {
     "name": "stdout",
     "output_type": "stream",
     "text": [
      "-2.7\n",
      "-2\n"
     ]
    }
   ],
   "source": [
    "my_float = -2.7\n",
    "print(my_float)\n",
    "my_int = int(my_float)\n",
    "print(my_int)\n"
   ]
  },
  {
   "cell_type": "markdown",
   "metadata": {},
   "source": [
    "## (To-) Int Rounding\n",
    "\n",
    "-   floor (abrunden)\n",
    "-   ceil (aufrunden)\n"
   ]
  },
  {
   "cell_type": "code",
   "execution_count": 8,
   "metadata": {},
   "outputs": [
    {
     "name": "stdout",
     "output_type": "stream",
     "text": [
      "2.7\n",
      "2\n",
      "3\n"
     ]
    }
   ],
   "source": [
    "my_float2 = 2.7\n",
    "print(my_float2)\n",
    "my_int2 = math.floor(my_float2)\n",
    "print(my_int2)\n",
    "my_int3 = math.ceil(my_float2)\n",
    "print(my_int3)\n"
   ]
  },
  {
   "cell_type": "code",
   "execution_count": 9,
   "metadata": {},
   "outputs": [
    {
     "name": "stdout",
     "output_type": "stream",
     "text": [
      "-2.7\n",
      "-3\n",
      "-2\n"
     ]
    }
   ],
   "source": [
    "my_float3 = -2.7\n",
    "print(my_float3)\n",
    "my_int4 = math.floor(my_float3)\n",
    "print(my_int4)\n",
    "my_int5 = math.ceil(my_float3)\n",
    "print(my_int5)\n"
   ]
  },
  {
   "cell_type": "markdown",
   "metadata": {},
   "source": [
    "## Integer Bases\n",
    "\n",
    "-   decimal: base 10\n",
    "-   binary: base 2\n",
    "-   hex: base 16\n"
   ]
  },
  {
   "cell_type": "code",
   "execution_count": 10,
   "metadata": {},
   "outputs": [
    {
     "name": "stdout",
     "output_type": "stream",
     "text": [
      "Value:  42\n"
     ]
    }
   ],
   "source": [
    "my_decimal = int(\"42\", base=10)\n",
    "print(\"Value: \", my_decimal)\n"
   ]
  },
  {
   "cell_type": "code",
   "execution_count": 11,
   "metadata": {},
   "outputs": [
    {
     "name": "stdout",
     "output_type": "stream",
     "text": [
      "Value:  66\n"
     ]
    }
   ],
   "source": [
    "my_hexadecimal = int(\"42\", base=16)\n",
    "print(\"Value: \", my_hexadecimal)\n"
   ]
  },
  {
   "cell_type": "code",
   "execution_count": 12,
   "metadata": {},
   "outputs": [
    {
     "name": "stdout",
     "output_type": "stream",
     "text": [
      "Value:  42\n"
     ]
    }
   ],
   "source": [
    "my_binary = int(\"101010\", base=2)\n",
    "print(\"Value: \", my_binary)\n"
   ]
  },
  {
   "cell_type": "code",
   "execution_count": 13,
   "metadata": {},
   "outputs": [
    {
     "name": "stdout",
     "output_type": "stream",
     "text": [
      "Value:  42\n"
     ]
    }
   ],
   "source": [
    "my_binary2 = int(\"0b101010\", base=0)\n",
    "print(\"Value: \", my_binary2)\n"
   ]
  },
  {
   "cell_type": "code",
   "execution_count": 14,
   "metadata": {},
   "outputs": [
    {
     "name": "stdout",
     "output_type": "stream",
     "text": [
      "Value:  42\n"
     ]
    }
   ],
   "source": [
    "my_binary3 = 0b101010\n",
    "print(\"Value: \", my_binary3)\n"
   ]
  }
 ],
 "metadata": {
  "interpreter": {
   "hash": "ef4ce19910938c421491e84375c43d450a079a1a865d40a0bc82f335363ab876"
  },
  "kernelspec": {
   "display_name": "Python 3.10.4 ('pyUdemy')",
   "language": "python",
   "name": "python3"
  },
  "language_info": {
   "codemirror_mode": {
    "name": "ipython",
    "version": 3
   },
   "file_extension": ".py",
   "mimetype": "text/x-python",
   "name": "python",
   "nbconvert_exporter": "python",
   "pygments_lexer": "ipython3",
   "version": "3.11.5"
  },
  "orig_nbformat": 4
 },
 "nbformat": 4,
 "nbformat_minor": 2
}
