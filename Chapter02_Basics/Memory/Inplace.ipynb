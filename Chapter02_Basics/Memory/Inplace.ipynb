{
 "cells": [
  {
   "cell_type": "code",
   "execution_count": 1,
   "metadata": {},
   "outputs": [],
   "source": [
    "import copy\n",
    "from typing import Any"
   ]
  },
  {
   "cell_type": "code",
   "execution_count": 2,
   "metadata": {},
   "outputs": [],
   "source": [
    "def print_memory_address(var: Any) -> None:\n",
    "    print(hex(id(var) % 0xFFFF))"
   ]
  },
  {
   "cell_type": "markdown",
   "metadata": {},
   "source": [
    "### In-Place Functions\n"
   ]
  },
  {
   "cell_type": "markdown",
   "metadata": {},
   "source": [
    "### Immutable Types\n"
   ]
  },
  {
   "cell_type": "code",
   "execution_count": 3,
   "metadata": {},
   "outputs": [
    {
     "name": "stdout",
     "output_type": "stream",
     "text": [
      "0x3a5d\n",
      "0x3a9d\n",
      "12\n"
     ]
    }
   ],
   "source": [
    "my_number = 10\n",
    "increment = 2\n",
    "\n",
    "print_memory_address(my_number)\n",
    "my_number = my_number + increment\n",
    "print_memory_address(my_number)\n",
    "\n",
    "print(my_number)"
   ]
  },
  {
   "cell_type": "code",
   "execution_count": 4,
   "metadata": {},
   "outputs": [
    {
     "name": "stdout",
     "output_type": "stream",
     "text": [
      "0x3a5d\n",
      "0x3a9d\n",
      "12\n"
     ]
    }
   ],
   "source": [
    "my_number2 = 10\n",
    "increment2 = 2\n",
    "\n",
    "print_memory_address(my_number2)\n",
    "my_number2 += increment2\n",
    "print_memory_address(my_number2)\n",
    "\n",
    "print(my_number2)"
   ]
  },
  {
   "cell_type": "markdown",
   "metadata": {},
   "source": [
    "### Mutable Types (but not In-Place)\n"
   ]
  },
  {
   "cell_type": "code",
   "execution_count": 5,
   "metadata": {},
   "outputs": [],
   "source": [
    "def inc_list(\n",
    "    lst: list[int],\n",
    "    inc_value: int,\n",
    ") -> list[int]:\n",
    "    for value in lst:\n",
    "        value = value + inc_value  # noqa: PLW2901\n",
    "    return lst"
   ]
  },
  {
   "cell_type": "code",
   "execution_count": 6,
   "metadata": {},
   "outputs": [
    {
     "name": "stdout",
     "output_type": "stream",
     "text": [
      "0x8d6a\n",
      "0x8d6a\n",
      "[1, 2, 3]\n"
     ]
    }
   ],
   "source": [
    "my_list = [1, 2, 3]\n",
    "increment = 2\n",
    "\n",
    "print_memory_address(my_list)\n",
    "my_list = inc_list(my_list, increment)\n",
    "print_memory_address(my_list)\n",
    "\n",
    "print(my_list)"
   ]
  },
  {
   "cell_type": "code",
   "execution_count": 7,
   "metadata": {},
   "outputs": [],
   "source": [
    "def inc_list(\n",
    "    lst: list[int],\n",
    "    inc_value: int,\n",
    ") -> None:\n",
    "    for idx in range(len(lst)):\n",
    "        lst[idx] = lst[idx] + inc_value"
   ]
  },
  {
   "cell_type": "code",
   "execution_count": 8,
   "metadata": {},
   "outputs": [
    {
     "name": "stdout",
     "output_type": "stream",
     "text": [
      "0x67ad\n",
      "0x393d\n",
      "0x67ad\n",
      "0x397d\n",
      "[3, 4, 5]\n"
     ]
    }
   ],
   "source": [
    "my_list2 = [1, 2, 3]\n",
    "increment2 = 2\n",
    "\n",
    "print_memory_address(my_list2)\n",
    "print_memory_address(my_list2[0])\n",
    "inc_list(my_list2, increment2)\n",
    "print_memory_address(my_list2)\n",
    "print_memory_address(my_list2[0])\n",
    "\n",
    "print(my_list2)"
   ]
  },
  {
   "cell_type": "code",
   "execution_count": 9,
   "metadata": {},
   "outputs": [],
   "source": [
    "def concat_lists(\n",
    "    l1: list,\n",
    "    l2: list,\n",
    ") -> list:\n",
    "    return l1 + l2"
   ]
  },
  {
   "cell_type": "code",
   "execution_count": 10,
   "metadata": {},
   "outputs": [
    {
     "name": "stdout",
     "output_type": "stream",
     "text": [
      "0xfaac\n",
      "0x56d\n",
      "[1, 2]\n",
      "[1, 2, 3, 4]\n",
      "0xf3ac\n",
      "0x56d\n"
     ]
    }
   ],
   "source": [
    "l1 = [1, 2]\n",
    "l2 = [3, 4]\n",
    "\n",
    "print_memory_address(l1)\n",
    "print_memory_address(l2)\n",
    "print(l1)\n",
    "l1 = concat_lists(l1, l2)\n",
    "print(l1)\n",
    "print_memory_address(l1)\n",
    "print_memory_address(l2)"
   ]
  },
  {
   "cell_type": "markdown",
   "metadata": {},
   "source": [
    "### In-Place on Mutable Types\n"
   ]
  },
  {
   "cell_type": "code",
   "execution_count": 11,
   "metadata": {},
   "outputs": [],
   "source": [
    "def concat_lists_inplace(\n",
    "    l1: list,\n",
    "    l2: list,\n",
    ") -> None:\n",
    "    l1 += l2"
   ]
  },
  {
   "cell_type": "code",
   "execution_count": 12,
   "metadata": {},
   "outputs": [
    {
     "name": "stdout",
     "output_type": "stream",
     "text": [
      "0xb8ec\n",
      "0x9dea\n",
      "[1, 2]\n",
      "[1, 2, 3, 4]\n",
      "0xb8ec\n",
      "0x9dea\n"
     ]
    }
   ],
   "source": [
    "l3 = [1, 2]\n",
    "l4 = [3, 4]\n",
    "\n",
    "print_memory_address(l3)\n",
    "print_memory_address(l4)\n",
    "print(l3)\n",
    "concat_lists_inplace(l3, l4)\n",
    "print(l3)\n",
    "print_memory_address(l3)\n",
    "print_memory_address(l4)"
   ]
  },
  {
   "cell_type": "markdown",
   "metadata": {},
   "source": [
    "### Shallow and Deep Copy\n"
   ]
  },
  {
   "cell_type": "markdown",
   "metadata": {},
   "source": [
    "#### Shallow Copy\n"
   ]
  },
  {
   "cell_type": "code",
   "execution_count": 13,
   "metadata": {},
   "outputs": [
    {
     "name": "stdout",
     "output_type": "stream",
     "text": [
      "0x206d\n",
      "0xd86c\n",
      "0x393d\n",
      "[[1, 2], [3, 4]]\n"
     ]
    }
   ],
   "source": [
    "list1 = [[1, 2], [3, 4]]\n",
    "\n",
    "print_memory_address(list1)\n",
    "print_memory_address(list1[0])\n",
    "print_memory_address(list1[0][0])\n",
    "print(list1)"
   ]
  },
  {
   "cell_type": "code",
   "execution_count": 14,
   "metadata": {},
   "outputs": [
    {
     "name": "stdout",
     "output_type": "stream",
     "text": [
      "0x206d\n",
      "0xd86c\n",
      "0x3a5d\n",
      "[[10, 2], [3, 4]]\n"
     ]
    }
   ],
   "source": [
    "list1[0][0] = 10\n",
    "\n",
    "print_memory_address(list1)\n",
    "print_memory_address(list1[0])\n",
    "print_memory_address(list1[0][0])\n",
    "print(list1)"
   ]
  },
  {
   "cell_type": "code",
   "execution_count": 15,
   "metadata": {},
   "outputs": [
    {
     "name": "stdout",
     "output_type": "stream",
     "text": [
      "0x206d\n",
      "0xbc65\n",
      "[[-1, -2], [3, 4]]\n"
     ]
    }
   ],
   "source": [
    "list1[0] = [-1, -2]\n",
    "\n",
    "print_memory_address(list1)\n",
    "print_memory_address(list1[0])\n",
    "print(list1)"
   ]
  },
  {
   "cell_type": "code",
   "execution_count": 16,
   "metadata": {},
   "outputs": [
    {
     "name": "stdout",
     "output_type": "stream",
     "text": [
      "0xd86c\n",
      "0xbc65\n",
      "[[-1, -2], [3, 4]]\n"
     ]
    }
   ],
   "source": [
    "list2 = copy.copy(list1)\n",
    "\n",
    "print_memory_address(list2)\n",
    "print_memory_address(list2[0])\n",
    "print(list2)"
   ]
  },
  {
   "cell_type": "code",
   "execution_count": 17,
   "metadata": {},
   "outputs": [
    {
     "name": "stdout",
     "output_type": "stream",
     "text": [
      "0xd86c\n",
      "0xbc65\n",
      "[[10, -2], [3, 4]]\n"
     ]
    }
   ],
   "source": [
    "list2[0][0] = 10\n",
    "\n",
    "print_memory_address(list2)\n",
    "print_memory_address(list2[0])\n",
    "print(list2)"
   ]
  },
  {
   "cell_type": "code",
   "execution_count": 18,
   "metadata": {},
   "outputs": [
    {
     "name": "stdout",
     "output_type": "stream",
     "text": [
      "0x206d\n",
      "0xbc65\n",
      "[[10, -2], [3, 4]]\n"
     ]
    }
   ],
   "source": [
    "print_memory_address(list1)\n",
    "print_memory_address(list1[0])\n",
    "print(list1)"
   ]
  },
  {
   "cell_type": "markdown",
   "metadata": {},
   "source": [
    "#### Deep Copy\n"
   ]
  },
  {
   "cell_type": "code",
   "execution_count": 19,
   "metadata": {},
   "outputs": [
    {
     "name": "stdout",
     "output_type": "stream",
     "text": [
      "0xe0ec\n",
      "0xfeec\n",
      "[[10, -2], [3, 4]]\n"
     ]
    }
   ],
   "source": [
    "list3 = copy.deepcopy(list1)\n",
    "\n",
    "print_memory_address(list3)\n",
    "print_memory_address(list3[0])\n",
    "print(list3)"
   ]
  },
  {
   "cell_type": "code",
   "execution_count": 20,
   "metadata": {},
   "outputs": [
    {
     "name": "stdout",
     "output_type": "stream",
     "text": [
      "0xe0ec\n",
      "0xfeec\n",
      "[[-11, -2], [3, 4]]\n"
     ]
    }
   ],
   "source": [
    "list3[0][0] = -11\n",
    "\n",
    "print_memory_address(list3)\n",
    "print_memory_address(list3[0])\n",
    "print(list3)"
   ]
  },
  {
   "cell_type": "code",
   "execution_count": 21,
   "metadata": {},
   "outputs": [
    {
     "name": "stdout",
     "output_type": "stream",
     "text": [
      "0x206d\n",
      "0xbc65\n",
      "[[10, -2], [3, 4]]\n"
     ]
    }
   ],
   "source": [
    "print_memory_address(list1)\n",
    "print_memory_address(list1[0])\n",
    "print(list1)"
   ]
  }
 ],
 "metadata": {
  "interpreter": {
   "hash": "ef4ce19910938c421491e84375c43d450a079a1a865d40a0bc82f335363ab876"
  },
  "kernelspec": {
   "display_name": "Python 3.10.4 ('pyUdemy')",
   "language": "python",
   "name": "python3"
  },
  "language_info": {
   "codemirror_mode": {
    "name": "ipython",
    "version": 3
   },
   "file_extension": ".py",
   "mimetype": "text/x-python",
   "name": "python",
   "nbconvert_exporter": "python",
   "pygments_lexer": "ipython3",
   "version": "3.11.2"
  },
  "orig_nbformat": 2
 },
 "nbformat": 4,
 "nbformat_minor": 2
}
