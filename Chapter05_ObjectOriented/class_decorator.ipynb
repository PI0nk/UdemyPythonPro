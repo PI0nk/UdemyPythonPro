{
 "cells": [
  {
   "cell_type": "markdown",
   "metadata": {},
   "source": [
    "#### Class Decorator\n"
   ]
  },
  {
   "cell_type": "code",
   "execution_count": 64,
   "metadata": {},
   "outputs": [],
   "source": [
    "from pprint import pformat\n",
    "from typing import Any"
   ]
  },
  {
   "cell_type": "code",
   "execution_count": 65,
   "metadata": {},
   "outputs": [],
   "source": [
    "def betterrepr(cls: Any) -> Any:\n",
    "    \"\"\"Improve representation of a class\"\"\"\n",
    "    print(\"decorating...\")\n",
    "\n",
    "    def custom_repr(self):\n",
    "        return (\n",
    "            f\"Instance of {type(self).__name__}, vars = {pformat(vars(self))}\"\n",
    "        )\n",
    "\n",
    "    cls.__repr__ = custom_repr\n",
    "\n",
    "    return cls"
   ]
  },
  {
   "cell_type": "code",
   "execution_count": 66,
   "metadata": {},
   "outputs": [
    {
     "name": "stdout",
     "output_type": "stream",
     "text": [
      "decorating...\n"
     ]
    }
   ],
   "source": [
    "@betterrepr\n",
    "class MyClass:\n",
    "    def __init__(self, instance_variable: str) -> None:\n",
    "        print(\"Init the instance\")\n",
    "        self.instance_variable = instance_variable"
   ]
  },
  {
   "cell_type": "code",
   "execution_count": 67,
   "metadata": {},
   "outputs": [
    {
     "name": "stdout",
     "output_type": "stream",
     "text": [
      "Init the instance\n",
      "Instance of MyClass, vars = {'instance_variable': 'I am an instance variable'}\n"
     ]
    }
   ],
   "source": [
    "obj = MyClass(\"I am an instance variable\")\n",
    "\n",
    "print(obj)"
   ]
  },
  {
   "cell_type": "code",
   "execution_count": 68,
   "metadata": {},
   "outputs": [],
   "source": [
    "class MyStaticMethod:\n",
    "    def __init__(self, func):\n",
    "        print(\"__init__\")\n",
    "        self.func = func\n",
    "\n",
    "    def __get__(self, instance, owner):\n",
    "        print(\"__get__\")\n",
    "        print(instance)\n",
    "        print(owner)\n",
    "        return self.func"
   ]
  },
  {
   "cell_type": "code",
   "execution_count": 69,
   "metadata": {},
   "outputs": [
    {
     "name": "stdout",
     "output_type": "stream",
     "text": [
      "__init__\n"
     ]
    }
   ],
   "source": [
    "class MyClass:\n",
    "    def __init__(self, instance_variable: str) -> None:\n",
    "        self.instance_variable = instance_variable\n",
    "\n",
    "    @MyStaticMethod\n",
    "    def static_method():\n",
    "        print(\"This is a static method\")"
   ]
  },
  {
   "cell_type": "code",
   "execution_count": 70,
   "metadata": {},
   "outputs": [
    {
     "name": "stdout",
     "output_type": "stream",
     "text": [
      "__get__\n",
      "None\n",
      "<class '__main__.MyClass'>\n",
      "This is a static method\n"
     ]
    }
   ],
   "source": [
    "MyClass.static_method()"
   ]
  }
 ],
 "metadata": {
  "kernelspec": {
   "display_name": "pyUdemy",
   "language": "python",
   "name": "python3"
  },
  "language_info": {
   "codemirror_mode": {
    "name": "ipython",
    "version": 3
   },
   "file_extension": ".py",
   "mimetype": "text/x-python",
   "name": "python",
   "nbconvert_exporter": "python",
   "pygments_lexer": "ipython3",
   "version": "3.11.5"
  }
 },
 "nbformat": 4,
 "nbformat_minor": 2
}
