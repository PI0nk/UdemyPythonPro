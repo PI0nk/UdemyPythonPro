{
 "cells": [
  {
   "cell_type": "markdown",
   "metadata": {},
   "source": [
    "#### Class Method\n",
    "\n",
    "Can only modify the state of the class, not a single instance\n"
   ]
  },
  {
   "cell_type": "markdown",
   "metadata": {},
   "source": [
    "##### Static Method\n",
    "\n",
    "Can neither modify the object state of an instance nor the class state itself  \n",
    "It is rather a way to namespace your methods\n"
   ]
  },
  {
   "cell_type": "code",
   "execution_count": 4,
   "metadata": {},
   "outputs": [],
   "source": [
    "from time import localtime"
   ]
  },
  {
   "cell_type": "code",
   "execution_count": 5,
   "metadata": {},
   "outputs": [],
   "source": [
    "class Date:\n",
    "    def __init__(\n",
    "        self,\n",
    "        year: int,\n",
    "        month: int,\n",
    "        day: int,\n",
    "    ) -> None:\n",
    "        self.year = year\n",
    "        self.month = month\n",
    "        self.day = day\n",
    "\n",
    "    def __repr__(self) -> str:\n",
    "        return f\"{self.day}.{self.month}.{self.year}\"\n",
    "\n",
    "    def print_date(self) -> None:\n",
    "        print(self)\n",
    "\n",
    "\n",
    "def get_todays_date(cls) -> Date:\n",
    "    date = cls.__new__(cls)\n",
    "    time = localtime()\n",
    "    date.year = time.tm_year\n",
    "    date.month = time.tm_mon\n",
    "    date.day = time.tm_mday\n",
    "    return date\n",
    "\n",
    "\n",
    "def is_todays_date(date: Date) -> bool:\n",
    "    time = localtime()\n",
    "    return bool(\n",
    "        date.year == time.tm_year\n",
    "        and date.month == time.tm_mon\n",
    "        and date.day == time.tm_mday\n",
    "    )"
   ]
  },
  {
   "cell_type": "code",
   "execution_count": 6,
   "metadata": {},
   "outputs": [],
   "source": [
    "class Date2:\n",
    "    def __init__(\n",
    "        self,\n",
    "        year: int,\n",
    "        month: int,\n",
    "        day: int,\n",
    "    ) -> None:\n",
    "        self.year = year\n",
    "        self.month = month\n",
    "        self.day = day\n",
    "\n",
    "    def __repr__(self) -> str:\n",
    "        return f\"{self.day}.{self.month}.{self.year}\"\n",
    "\n",
    "    def print_date(self) -> None:\n",
    "        print(self)\n",
    "\n",
    "    @classmethod\n",
    "    def get_todays_date(cls):\n",
    "        date = cls.__new__(cls)\n",
    "        time = localtime()\n",
    "        date.year = time.tm_year\n",
    "        date.month = time.tm_mon\n",
    "        date.day = time.tm_mday\n",
    "        return date\n",
    "\n",
    "    @staticmethod\n",
    "    def is_todays_date(date) -> bool:\n",
    "        time = localtime()\n",
    "        return bool(\n",
    "            date.year == time.tm_year\n",
    "            and date.month == time.tm_mon\n",
    "            and date.day == time.tm_mday\n",
    "        )"
   ]
  },
  {
   "cell_type": "markdown",
   "metadata": {},
   "source": [
    "Method\n"
   ]
  },
  {
   "cell_type": "code",
   "execution_count": 7,
   "metadata": {},
   "outputs": [
    {
     "name": "stdout",
     "output_type": "stream",
     "text": [
      "8.10.2008\n"
     ]
    }
   ],
   "source": [
    "date1 = Date2(2008, 10, 8)\n",
    "\n",
    "date1.print_date()"
   ]
  },
  {
   "cell_type": "markdown",
   "metadata": {},
   "source": [
    "Class Method\n"
   ]
  },
  {
   "cell_type": "code",
   "execution_count": 8,
   "metadata": {},
   "outputs": [
    {
     "name": "stdout",
     "output_type": "stream",
     "text": [
      "11.11.2023\n"
     ]
    }
   ],
   "source": [
    "date2 = Date2.get_todays_date()\n",
    "\n",
    "date2.print_date()"
   ]
  },
  {
   "cell_type": "markdown",
   "metadata": {},
   "source": [
    "Static Method\n"
   ]
  },
  {
   "cell_type": "code",
   "execution_count": 9,
   "metadata": {},
   "outputs": [
    {
     "data": {
      "text/plain": [
       "True"
      ]
     },
     "execution_count": 9,
     "metadata": {},
     "output_type": "execute_result"
    }
   ],
   "source": [
    "Date2.is_todays_date(date2)"
   ]
  }
 ],
 "metadata": {
  "file_extension": ".py",
  "kernelspec": {
   "display_name": "base",
   "language": "python",
   "name": "python3"
  },
  "language_info": {
   "codemirror_mode": {
    "name": "ipython",
    "version": 3
   },
   "file_extension": ".py",
   "mimetype": "text/x-python",
   "name": "python",
   "nbconvert_exporter": "python",
   "pygments_lexer": "ipython3",
   "version": "3.11.6"
  },
  "mimetype": "text/x-python",
  "name": "python",
  "npconvert_exporter": "python",
  "orig_nbformat": 2,
  "pygments_lexer": "ipython3",
  "version": 3,
  "vscode": {
   "interpreter": {
    "hash": "26eab8343ce5ed02de4098c10e314ebb45ce0ac5e34fea85423d6f141bc9ca67"
   }
  }
 },
 "nbformat": 4,
 "nbformat_minor": 2
}
