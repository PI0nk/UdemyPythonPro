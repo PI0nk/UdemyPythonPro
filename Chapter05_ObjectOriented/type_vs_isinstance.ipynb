{
 "cells": [
  {
   "cell_type": "code",
   "execution_count": 73,
   "source": [
    "class A:\n",
    "    def __init__(self):\n",
    "        print(\"Init A called!\")\n",
    "\n",
    "        self.a = 1\n",
    "\n",
    "\n",
    "class B(A):\n",
    "    def __init__(self):\n",
    "        super().__init__()\n",
    "\n",
    "        print(\"Init B called!\")\n",
    "\n",
    "        self.b = self.a * 2\n",
    "\n",
    "\n",
    "class C(A):\n",
    "    def __init__(self):\n",
    "        super().__init__()\n",
    "\n",
    "        print(\"Init C called!\")\n",
    "\n",
    "        self.c = self.a / 2\n",
    "\n",
    "\n",
    "class D(B, C):\n",
    "    def __init__(self):\n",
    "        super().__init__()\n",
    "\n",
    "        print(\"Init D called!\")\n",
    "\n",
    "        self.d = self.b + self.c"
   ],
   "outputs": [],
   "metadata": {}
  },
  {
   "cell_type": "code",
   "execution_count": 74,
   "source": [
    "a = A()\n",
    "\n",
    "b = B()"
   ],
   "outputs": [
    {
     "output_type": "stream",
     "name": "stdout",
     "text": [
      "Init A called!\n",
      "Init A called!\n",
      "Init B called!\n"
     ]
    }
   ],
   "metadata": {}
  },
  {
   "cell_type": "code",
   "execution_count": 75,
   "source": [
    "type(b)"
   ],
   "outputs": [
    {
     "output_type": "execute_result",
     "data": {
      "text/plain": [
       "__main__.B"
      ]
     },
     "metadata": {},
     "execution_count": 75
    }
   ],
   "metadata": {}
  },
  {
   "cell_type": "code",
   "execution_count": 76,
   "source": [
    "if type(b) == B:\n",
    "    print(\"equal\")\n",
    "\n",
    "else:\n",
    "    print(\"not equal\")"
   ],
   "outputs": [
    {
     "output_type": "stream",
     "name": "stdout",
     "text": [
      "equal\n"
     ]
    }
   ],
   "metadata": {}
  },
  {
   "cell_type": "code",
   "execution_count": 77,
   "source": [
    "if type(b) == A:\n",
    "    print(\"equal\")\n",
    "\n",
    "else:\n",
    "    print(\"not equal\")"
   ],
   "outputs": [
    {
     "output_type": "stream",
     "name": "stdout",
     "text": [
      "not equal\n"
     ]
    }
   ],
   "metadata": {}
  },
  {
   "cell_type": "code",
   "execution_count": 78,
   "source": [
    "if isinstance(b, B):\n",
    "    print(\"is instance\")\n",
    "\n",
    "else:\n",
    "    print(\"not is instance\")"
   ],
   "outputs": [
    {
     "output_type": "stream",
     "name": "stdout",
     "text": [
      "is instance\n"
     ]
    }
   ],
   "metadata": {}
  },
  {
   "cell_type": "code",
   "execution_count": 79,
   "source": [
    "if isinstance(b, A):\n",
    "    print(\"is instance\")\n",
    "\n",
    "else:\n",
    "    print(\"not is instance\")"
   ],
   "outputs": [
    {
     "output_type": "stream",
     "name": "stdout",
     "text": [
      "is instance\n"
     ]
    }
   ],
   "metadata": {}
  },
  {
   "cell_type": "code",
   "execution_count": 80,
   "source": [
    "if issubclass(B, (A, list, tuple)):\n",
    "    print(\"is subclass\")\n",
    "\n",
    "else:\n",
    "    print(\"is not subclass\")"
   ],
   "outputs": [
    {
     "output_type": "stream",
     "name": "stdout",
     "text": [
      "is subclass\n"
     ]
    }
   ],
   "metadata": {}
  },
  {
   "cell_type": "code",
   "execution_count": 82,
   "source": [
    "if issubclass(A, (B, object)):\n",
    "    print(\"is subclass\")\n",
    "\n",
    "else:\n",
    "    print(\"is not subclass\")"
   ],
   "outputs": [
    {
     "output_type": "stream",
     "name": "stdout",
     "text": [
      "is subclass\n"
     ]
    }
   ],
   "metadata": {}
  }
 ],
 "metadata": {
  "language_info": {
   "codemirror_mode": {
    "name": "ipython",
    "version": 3
   },
   "file_extension": ".py",
   "mimetype": "text/x-python",
   "name": "python",
   "nbconvert_exporter": "python",
   "pygments_lexer": "ipython3",
   "version": "3.8.10"
  },
  "orig_nbformat": 2,
  "kernelspec": {
   "name": "python3",
   "display_name": "Python 3.8.10 64-bit ('tensorflow': conda)"
  },
  "interpreter": {
   "hash": "4eab73af86a999baa7bf0153340022c78a9cea3be6d1f049b3c9a17993d56d0b"
  }
 },
 "nbformat": 4,
 "nbformat_minor": 2
}