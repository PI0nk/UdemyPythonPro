{
 "cells": [
  {
   "cell_type": "code",
   "execution_count": null,
   "metadata": {},
   "outputs": [],
   "source": [
    "from typing import Any"
   ]
  },
  {
   "cell_type": "code",
   "execution_count": 14,
   "metadata": {},
   "outputs": [],
   "source": [
    "def memory_address(var: Any) -> Any:\n",
    "    return hex(id(var) % 0xFFFFF)"
   ]
  },
  {
   "cell_type": "code",
   "execution_count": null,
   "metadata": {},
   "outputs": [],
   "source": [
    "def print_string_info(st: str) -> None:\n",
    "    print(f\"String address: {memory_address(st)}\")\n",
    "\n",
    "    for val in st:\n",
    "        print(f\"Val: {memory_address(val)}\")\n",
    "\n",
    "    print(\"\\n\")"
   ]
  },
  {
   "cell_type": "markdown",
   "metadata": {},
   "source": [
    "# Strings\n"
   ]
  },
  {
   "cell_type": "code",
   "execution_count": 15,
   "metadata": {},
   "outputs": [
    {
     "name": "stdout",
     "output_type": "stream",
     "text": [
      "Jan\n",
      "String address: 0x170b2\n",
      "Val: 0xad50c\n",
      "Val: 0x65089\n",
      "Val: 0x19849\n",
      "\n",
      "\n"
     ]
    }
   ],
   "source": [
    "my_name = \"Jan\"\n",
    "\n",
    "\n",
    "print(my_name)\n",
    "\n",
    "print_string_info(my_name)"
   ]
  },
  {
   "cell_type": "code",
   "execution_count": 16,
   "metadata": {},
   "outputs": [
    {
     "name": "stdout",
     "output_type": "stream",
     "text": [
      "Ja\n",
      "String address: 0x53bcb\n",
      "Val: 0xad50c\n",
      "Val: 0x65089\n",
      "\n",
      "\n"
     ]
    }
   ],
   "source": [
    "my_name = my_name[:2]\n",
    "\n",
    "\n",
    "print(my_name)\n",
    "\n",
    "print_string_info(my_name)"
   ]
  },
  {
   "cell_type": "code",
   "execution_count": 17,
   "metadata": {},
   "outputs": [
    {
     "name": "stdout",
     "output_type": "stream",
     "text": [
      "'str' object does not support item assignment\n",
      "Ja\n",
      "String address: 0x53bcb\n",
      "Val: 0xad50c\n",
      "Val: 0x65089\n",
      "\n",
      "\n"
     ]
    }
   ],
   "source": [
    "try:\n",
    "    my_name[0] = \"a\"\n",
    "\n",
    "except TypeError as e:\n",
    "    print(e)\n",
    "\n",
    "\n",
    "print(my_name)\n",
    "\n",
    "print_string_info(my_name)"
   ]
  },
  {
   "cell_type": "code",
   "execution_count": 18,
   "metadata": {},
   "outputs": [
    {
     "name": "stdout",
     "output_type": "stream",
     "text": [
      "aa\n",
      "String address: 0xd9115\n",
      "Val: 0x65089\n",
      "Val: 0x65089\n",
      "\n",
      "\n"
     ]
    }
   ],
   "source": [
    "my_name = \"a\" + my_name[1:]\n",
    "\n",
    "\n",
    "print(my_name)\n",
    "\n",
    "print_string_info(my_name)"
   ]
  }
 ],
 "metadata": {
  "file_extension": ".py",
  "interpreter": {
   "hash": "4eab73af86a999baa7bf0153340022c78a9cea3be6d1f049b3c9a17993d56d0b"
  },
  "kernelspec": {
   "display_name": "Python 3.8.10 64-bit",
   "name": "python3"
  },
  "language_info": {
   "codemirror_mode": {
    "name": "ipython",
    "version": 3
   },
   "file_extension": ".py",
   "mimetype": "text/x-python",
   "name": "python",
   "nbconvert_exporter": "python",
   "pygments_lexer": "ipython3",
   "version": "3.8.10"
  },
  "mimetype": "text/x-python",
  "name": "python",
  "npconvert_exporter": "python",
  "orig_nbformat": 2,
  "pygments_lexer": "ipython3",
  "version": 3
 },
 "nbformat": 4,
 "nbformat_minor": 2
}
