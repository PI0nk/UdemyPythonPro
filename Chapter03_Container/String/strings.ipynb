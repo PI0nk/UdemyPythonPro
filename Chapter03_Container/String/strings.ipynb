{
 "nbformat": 4,
 "nbformat_minor": 2,
 "metadata": {
  "language_info": {
   "name": "python",
   "version": "3.8.10",
   "mimetype": "text/x-python",
   "codemirror_mode": {
    "name": "ipython",
    "version": 3
   },
   "pygments_lexer": "ipython3",
   "nbconvert_exporter": "python",
   "file_extension": ".py"
  },
  "orig_nbformat": 2,
  "file_extension": ".py",
  "mimetype": "text/x-python",
  "name": "python",
  "npconvert_exporter": "python",
  "pygments_lexer": "ipython3",
  "version": 3,
  "kernelspec": {
   "name": "python3",
   "display_name": "Python 3.8.10 64-bit"
  },
  "interpreter": {
   "hash": "4eab73af86a999baa7bf0153340022c78a9cea3be6d1f049b3c9a17993d56d0b"
  }
 },
 "cells": [
  {
   "cell_type": "code",
   "execution_count": 14,
   "source": [
    "def memory_address(var):\n",
    "    return hex(id(var) % 0xFFFFF)\n",
    "\n",
    "\n",
    "def print_string_info(st):\n",
    "    print(f\"String address: {memory_address(st)}\")\n",
    "\n",
    "    for val in st:\n",
    "        print(f\"Val: {memory_address(val)}\")\n",
    "\n",
    "    print(\"\\n\")"
   ],
   "outputs": [],
   "metadata": {}
  },
  {
   "cell_type": "markdown",
   "source": [
    "# Strings"
   ],
   "metadata": {}
  },
  {
   "cell_type": "code",
   "execution_count": 15,
   "source": [
    "my_name = \"Jan\"\n",
    "\n",
    "\n",
    "print(my_name)\n",
    "\n",
    "print_string_info(my_name)"
   ],
   "outputs": [
    {
     "output_type": "stream",
     "name": "stdout",
     "text": [
      "Jan\n",
      "String address: 0x170b2\n",
      "Val: 0xad50c\n",
      "Val: 0x65089\n",
      "Val: 0x19849\n",
      "\n",
      "\n"
     ]
    }
   ],
   "metadata": {}
  },
  {
   "cell_type": "code",
   "execution_count": 16,
   "source": [
    "my_name = my_name[:2]\n",
    "\n",
    "\n",
    "print(my_name)\n",
    "\n",
    "print_string_info(my_name)"
   ],
   "outputs": [
    {
     "output_type": "stream",
     "name": "stdout",
     "text": [
      "Ja\n",
      "String address: 0x53bcb\n",
      "Val: 0xad50c\n",
      "Val: 0x65089\n",
      "\n",
      "\n"
     ]
    }
   ],
   "metadata": {}
  },
  {
   "cell_type": "code",
   "execution_count": 17,
   "source": [
    "try:\n",
    "    my_name[0] = \"a\"\n",
    "\n",
    "except TypeError as e:\n",
    "    print(e)\n",
    "\n",
    "\n",
    "print(my_name)\n",
    "\n",
    "print_string_info(my_name)"
   ],
   "outputs": [
    {
     "output_type": "stream",
     "name": "stdout",
     "text": [
      "'str' object does not support item assignment\n",
      "Ja\n",
      "String address: 0x53bcb\n",
      "Val: 0xad50c\n",
      "Val: 0x65089\n",
      "\n",
      "\n"
     ]
    }
   ],
   "metadata": {}
  },
  {
   "cell_type": "code",
   "execution_count": 18,
   "source": [
    "my_name = \"a\" + my_name[1:]\n",
    "\n",
    "\n",
    "print(my_name)\n",
    "\n",
    "print_string_info(my_name)"
   ],
   "outputs": [
    {
     "output_type": "stream",
     "name": "stdout",
     "text": [
      "aa\n",
      "String address: 0xd9115\n",
      "Val: 0x65089\n",
      "Val: 0x65089\n",
      "\n",
      "\n"
     ]
    }
   ],
   "metadata": {}
  }
 ]
}