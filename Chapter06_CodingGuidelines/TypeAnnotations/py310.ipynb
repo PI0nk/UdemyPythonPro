{
 "cells": [
  {
   "cell_type": "code",
   "execution_count": 1,
   "metadata": {},
   "outputs": [],
   "source": [
    "from typing import Any\n",
    "from typing import Callable\n",
    "from typing import Dict\n",
    "from typing import List\n",
    "from typing import Optional\n",
    "from typing import Tuple\n",
    "from typing import Union"
   ]
  },
  {
   "cell_type": "markdown",
   "metadata": {},
   "source": [
    "### Python 3.10 Type Annotations Changes"
   ]
  },
  {
   "cell_type": "markdown",
   "metadata": {},
   "source": [
    "Union[X, Y] -> X | Y  \n",
    "Optional[X] -> X | None  \n",
    "\n",
    "List[X] -> list[x]  \n",
    "Tuple[X] -> tuple[x]  \n",
    "Dict[X, >] -> dict[x, y]  "
   ]
  },
  {
   "cell_type": "code",
   "execution_count": 2,
   "metadata": {},
   "outputs": [],
   "source": [
    "lst: list[int] = [1, 2, 3]\n",
    "\n",
    "tpe = int | float | bool"
   ]
  },
  {
   "cell_type": "markdown",
   "metadata": {},
   "source": [
    "#### ParamSpec"
   ]
  },
  {
   "cell_type": "code",
   "execution_count": 3,
   "metadata": {},
   "outputs": [],
   "source": [
    "def outer(inner: Callable[..., int]) -> Callable[..., int]:\n",
    "    def wrapper(*args: Any, **kwargs: Any) -> int:\n",
    "        return inner(args, kwargs)\n",
    "\n",
    "    return wrapper"
   ]
  },
  {
   "cell_type": "code",
   "execution_count": 4,
   "metadata": {},
   "outputs": [],
   "source": [
    "from typing import ParamSpec"
   ]
  },
  {
   "cell_type": "code",
   "execution_count": 5,
   "metadata": {},
   "outputs": [],
   "source": [
    "P = ParamSpec(\"P\")\n",
    "\n",
    "\n",
    "def outer2(inner: Callable[P, int]) -> Callable[P, int]:\n",
    "    def wrapper(*args: P.args, **kwargs: P.kwargs) -> int:\n",
    "        return inner(args, kwargs)\n",
    "\n",
    "    return wrapper"
   ]
  },
  {
   "cell_type": "markdown",
   "metadata": {},
   "source": [
    "#### TypeGuard"
   ]
  },
  {
   "cell_type": "code",
   "execution_count": 6,
   "metadata": {},
   "outputs": [],
   "source": [
    "from typing import TypeGuard"
   ]
  },
  {
   "cell_type": "code",
   "execution_count": 7,
   "metadata": {},
   "outputs": [],
   "source": [
    "def is_str_list(lst: list[object]) -> TypeGuard[list[str]]:\n",
    "    return all(isinstance(s, str) for s in lst)"
   ]
  },
  {
   "cell_type": "code",
   "execution_count": 8,
   "metadata": {},
   "outputs": [],
   "source": [
    "def try_print_list(lst: list[object]) -> None:\n",
    "    if is_str_list(lst):\n",
    "        print(lst)"
   ]
  }
 ],
 "metadata": {
  "kernelspec": {
   "display_name": "tensorflow",
   "language": "python",
   "name": "python3"
  },
  "language_info": {
   "codemirror_mode": {
    "name": "ipython",
    "version": 3
   },
   "file_extension": ".py",
   "mimetype": "text/x-python",
   "name": "python",
   "nbconvert_exporter": "python",
   "pygments_lexer": "ipython3",
   "version": "3.10.9"
  },
  "orig_nbformat": 4,
  "vscode": {
   "interpreter": {
    "hash": "4a530a401827db55b3b32bddb74ef9c27b80cabc6fe7a20ea91ce98fce4eade3"
   }
  }
 },
 "nbformat": 4,
 "nbformat_minor": 2
}
